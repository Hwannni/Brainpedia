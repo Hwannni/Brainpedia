{
 "cells": [
  {
   "cell_type": "markdown",
   "metadata": {},
   "source": [
    "# 라이브러리 가져오기"
   ]
  },
  {
   "cell_type": "code",
   "execution_count": 1,
   "metadata": {},
   "outputs": [
    {
     "name": "stdout",
     "output_type": "stream",
     "text": [
      "Requirement already satisfied: pandas in c:\\users\\cmhcm\\appdata\\local\\programs\\python\\python311\\lib\\site-packages (2.2.0)\n",
      "Requirement already satisfied: requests in c:\\users\\cmhcm\\appdata\\local\\programs\\python\\python311\\lib\\site-packages (2.31.0)\n",
      "Requirement already satisfied: numpy<2,>=1.23.2 in c:\\users\\cmhcm\\appdata\\local\\programs\\python\\python311\\lib\\site-packages (from pandas) (1.26.4)\n",
      "Requirement already satisfied: python-dateutil>=2.8.2 in c:\\users\\cmhcm\\appdata\\roaming\\python\\python311\\site-packages (from pandas) (2.8.2)\n",
      "Requirement already satisfied: pytz>=2020.1 in c:\\users\\cmhcm\\appdata\\local\\programs\\python\\python311\\lib\\site-packages (from pandas) (2024.1)\n",
      "Requirement already satisfied: tzdata>=2022.7 in c:\\users\\cmhcm\\appdata\\local\\programs\\python\\python311\\lib\\site-packages (from pandas) (2023.4)\n",
      "Requirement already satisfied: charset-normalizer<4,>=2 in c:\\users\\cmhcm\\appdata\\local\\programs\\python\\python311\\lib\\site-packages (from requests) (3.3.2)\n",
      "Requirement already satisfied: idna<4,>=2.5 in c:\\users\\cmhcm\\appdata\\local\\programs\\python\\python311\\lib\\site-packages (from requests) (3.6)\n",
      "Requirement already satisfied: urllib3<3,>=1.21.1 in c:\\users\\cmhcm\\appdata\\local\\programs\\python\\python311\\lib\\site-packages (from requests) (2.2.0)\n",
      "Requirement already satisfied: certifi>=2017.4.17 in c:\\users\\cmhcm\\appdata\\local\\programs\\python\\python311\\lib\\site-packages (from requests) (2024.2.2)\n",
      "Requirement already satisfied: six>=1.5 in c:\\users\\cmhcm\\appdata\\roaming\\python\\python311\\site-packages (from python-dateutil>=2.8.2->pandas) (1.16.0)\n",
      "Note: you may need to restart the kernel to use updated packages.\n"
     ]
    },
    {
     "name": "stderr",
     "output_type": "stream",
     "text": [
      "\n",
      "[notice] A new release of pip is available: 24.0 -> 24.1.2\n",
      "[notice] To update, run: python.exe -m pip install --upgrade pip\n"
     ]
    }
   ],
   "source": [
    "pip install pandas requests"
   ]
  },
  {
   "cell_type": "code",
   "execution_count": 2,
   "metadata": {},
   "outputs": [
    {
     "name": "stderr",
     "output_type": "stream",
     "text": [
      "C:\\Users\\cmhcm\\AppData\\Local\\Temp\\ipykernel_27448\\777464514.py:1: DeprecationWarning: \n",
      "Pyarrow will become a required dependency of pandas in the next major release of pandas (pandas 3.0),\n",
      "(to allow more performant data types, such as the Arrow string type, and better interoperability with other libraries)\n",
      "but was not found to be installed on your system.\n",
      "If this would cause problems for you,\n",
      "please provide us feedback at https://github.com/pandas-dev/pandas/issues/54466\n",
      "        \n",
      "  import pandas as pd\n"
     ]
    }
   ],
   "source": [
    "import pandas as pd\n",
    "import requests\n",
    "import gzip\n",
    "from io import BytesIO"
   ]
  },
  {
   "cell_type": "markdown",
   "metadata": {},
   "source": [
    "# 덤프데이터 수집"
   ]
  },
  {
   "cell_type": "code",
   "execution_count": 3,
   "metadata": {},
   "outputs": [],
   "source": [
    "# 1. 데이터 다운로드\n",
    "def download_pageviews(year, month, day, hour):\n",
    "    url = (\n",
    "        f\"https://dumps.wikimedia.org/other/pageviews/\"\n",
    "        f\"{year}/{year}-{month:0>2}/pageviews-{year}{month:0>2}{day:0>2}-{hour:0>2}0000.gz\"\n",
    "    )\n",
    "    response = requests.get(url)\n",
    "    return response.content\n",
    "\n",
    "# 2. 데이터 추출\n",
    "def extract_gz(data):\n",
    "    with gzip.open(BytesIO(data), 'rb') as f:\n",
    "        return f.read().decode('utf-8')\n",
    "\n",
    "# 3. 데이터 파싱 및 DataFrame 변환\n",
    "def parse_to_dataframe(data):\n",
    "    lines = data.split('\\n')\n",
    "    records = [line.split() for line in lines if line]\n",
    "    # 데이터의 실제 컬럼 수에 맞춰 컬럼명 지정\n",
    "    df = pd.DataFrame(records, columns=['domain_code', 'page_title', 'view_counts', 'another_column'])\n",
    "    return df\n",
    "\n",
    "# 4. 전체 파이프라인 실행\n",
    "def fetch_pageviews_to_dataframe(year, month, day, hour):\n",
    "    gz_data = download_pageviews(year, month, day, hour)\n",
    "    extracted_data = extract_gz(gz_data)\n",
    "    df = parse_to_dataframe(extracted_data)\n",
    "    return df\n",
    "\n",
    "# 예시 사용\n",
    "year, month, day, hour = 2024, 7, 30, 0\n",
    "df = fetch_pageviews_to_dataframe(year, month, day, hour)"
   ]
  },
  {
   "cell_type": "markdown",
   "metadata": {},
   "source": [
    "## 데이터 정제"
   ]
  },
  {
   "cell_type": "code",
   "execution_count": 4,
   "metadata": {},
   "outputs": [],
   "source": [
    "df.columns = ['LanguageCode', 'PageTitle', 'PageViews', 'Metadata']"
   ]
  },
  {
   "cell_type": "code",
   "execution_count": 5,
   "metadata": {},
   "outputs": [],
   "source": [
    "# Metadata 컬럼 DROP\n",
    "df.drop(columns=['Metadata'], inplace=True)"
   ]
  },
  {
   "cell_type": "code",
   "execution_count": 6,
   "metadata": {},
   "outputs": [],
   "source": [
    "# 결측치 또는 비어있는 값이 있다면 처리 (예: NaN을 0으로 대체)\n",
    "df['PageViews'] = df['PageViews'].fillna(0)\n",
    "# object 타입을 int로 변환\n",
    "df['PageViews'] = df['PageViews'].astype(int)"
   ]
  },
  {
   "cell_type": "code",
   "execution_count": 7,
   "metadata": {},
   "outputs": [],
   "source": [
    "# 임계값 100\n",
    "# 100 이상의 페이지뷰만 남기기 -> 너무 적은 조회수는 담지 않기로함 (용량 문제)\n",
    "threshold = 100\n",
    "df_filtered = df[df['PageViews'] >= threshold]"
   ]
  },
  {
   "cell_type": "code",
   "execution_count": 8,
   "metadata": {},
   "outputs": [],
   "source": [
    "# 페이지 유형에 따른 필터링 기준 설정\n",
    "# 아직 더 구체화해야 함\n",
    "exclude_prefixes = [\n",
    "    \"Main_Page\", \"Special:\", \"Talk:\", \"User:\", \"User talk:\", \n",
    "    \"Category:\", \"Portal:\", \"File:\", \"Template:\", \"Help:\", \"Wikipedia:\",\n",
    "    \"MediaWiki:\", \"Spécial:\", \"メインページ\"\n",
    "]\n",
    "\n",
    "# 특정 유형의 페이지 제외\n",
    "# PageTitle이 제외할 접두사를 가진 경우 제외\n",
    "df_filtered = df_filtered[~df_filtered['PageTitle'].str.startswith(tuple(exclude_prefixes))]"
   ]
  },
  {
   "cell_type": "code",
   "execution_count": 9,
   "metadata": {},
   "outputs": [],
   "source": [
    "# 언어 코드별 페이지 수 확인\n",
    "language_counts = df_filtered['LanguageCode'].value_counts()\n",
    "# 문서 수가 10 이하인 언어 코드 찾기\n",
    "languages_to_remove = language_counts[language_counts <= 10].index\n",
    "# 해당 언어 코드를 가진 행 제거\n",
    "df_filtered = df_filtered[~df_filtered['LanguageCode'].isin(languages_to_remove)]"
   ]
  },
  {
   "cell_type": "code",
   "execution_count": 10,
   "metadata": {},
   "outputs": [],
   "source": [
    "# 나라 딕셔너리 생성\n",
    "language_to_country = {\n",
    "    'en': 'United States',\n",
    "    'ar': 'Saudi Arabia',\n",
    "    'zh': 'China',\n",
    "    'es': 'Spain',\n",
    "    'fr': 'France',\n",
    "    'de': 'Germany',\n",
    "    'ru': 'Russia',\n",
    "    'ko': 'Korea',\n",
    "    'ja': 'Japan',\n",
    "    'fa': 'Iran',\n",
    "    'vi': 'Vietnam',\n",
    "    'he': 'Israel',        \n",
    "    'id': 'Indonesia',  \n",
    "    'it': 'Italy',       \n",
    "    'pl': 'Poland',      \n",
    "    'pt': 'Portugal',     \n",
    "    'tl': 'Philippines', \n",
    "    'tr': 'Turkey',     \n",
    "    # 다른 언어 코드와 나라를 추가할 수 있습니다\n",
    "}"
   ]
  },
  {
   "cell_type": "code",
   "execution_count": 11,
   "metadata": {},
   "outputs": [],
   "source": [
    "# LanguageCode에서 언어 코드를 추출하여 Country 컬럼 생성\n",
    "df_filtered['Country'] = df_filtered['LanguageCode'].str.split('.').str[0].map(language_to_country)"
   ]
  },
  {
   "cell_type": "code",
   "execution_count": 12,
   "metadata": {},
   "outputs": [
    {
     "data": {
      "text/html": [
       "<div>\n",
       "<style scoped>\n",
       "    .dataframe tbody tr th:only-of-type {\n",
       "        vertical-align: middle;\n",
       "    }\n",
       "\n",
       "    .dataframe tbody tr th {\n",
       "        vertical-align: top;\n",
       "    }\n",
       "\n",
       "    .dataframe thead th {\n",
       "        text-align: right;\n",
       "    }\n",
       "</style>\n",
       "<table border=\"1\" class=\"dataframe\">\n",
       "  <thead>\n",
       "    <tr style=\"text-align: right;\">\n",
       "      <th></th>\n",
       "      <th>LanguageCode</th>\n",
       "      <th>PageTitle</th>\n",
       "      <th>PageViews</th>\n",
       "      <th>Country</th>\n",
       "    </tr>\n",
       "  </thead>\n",
       "  <tbody>\n",
       "    <tr>\n",
       "      <th>14545</th>\n",
       "      <td>ar</td>\n",
       "      <td>الصفحة_الرئيسة</td>\n",
       "      <td>162</td>\n",
       "      <td>Saudi Arabia</td>\n",
       "    </tr>\n",
       "    <tr>\n",
       "      <th>21671</th>\n",
       "      <td>ar</td>\n",
       "      <td>تصنيف:جميع_المقالات_المقترح_دمجها</td>\n",
       "      <td>341</td>\n",
       "      <td>Saudi Arabia</td>\n",
       "    </tr>\n",
       "    <tr>\n",
       "      <th>24207</th>\n",
       "      <td>ar</td>\n",
       "      <td>تصنيف:مقالات_يتيمة_منذ_أبريل_2017</td>\n",
       "      <td>342</td>\n",
       "      <td>Saudi Arabia</td>\n",
       "    </tr>\n",
       "    <tr>\n",
       "      <th>24208</th>\n",
       "      <td>ar</td>\n",
       "      <td>تصنيف:مقالات_يتيمة_منذ_أبريل_2018</td>\n",
       "      <td>335</td>\n",
       "      <td>Saudi Arabia</td>\n",
       "    </tr>\n",
       "    <tr>\n",
       "      <th>24209</th>\n",
       "      <td>ar</td>\n",
       "      <td>تصنيف:مقالات_يتيمة_منذ_أبريل_2019</td>\n",
       "      <td>338</td>\n",
       "      <td>Saudi Arabia</td>\n",
       "    </tr>\n",
       "    <tr>\n",
       "      <th>...</th>\n",
       "      <td>...</td>\n",
       "      <td>...</td>\n",
       "      <td>...</td>\n",
       "      <td>...</td>\n",
       "    </tr>\n",
       "    <tr>\n",
       "      <th>5288966</th>\n",
       "      <td>zh.m</td>\n",
       "      <td>零日攻擊_(電視劇)</td>\n",
       "      <td>115</td>\n",
       "      <td>China</td>\n",
       "    </tr>\n",
       "    <tr>\n",
       "      <th>5290192</th>\n",
       "      <td>zh.m</td>\n",
       "      <td>颱風凱米_(2024年)</td>\n",
       "      <td>107</td>\n",
       "      <td>China</td>\n",
       "    </tr>\n",
       "    <tr>\n",
       "      <th>5292023</th>\n",
       "      <td>zh.m</td>\n",
       "      <td>高虹安</td>\n",
       "      <td>120</td>\n",
       "      <td>China</td>\n",
       "    </tr>\n",
       "    <tr>\n",
       "      <th>5293401</th>\n",
       "      <td>zh.m</td>\n",
       "      <td>黃道十二宮</td>\n",
       "      <td>113</td>\n",
       "      <td>China</td>\n",
       "    </tr>\n",
       "    <tr>\n",
       "      <th>5293427</th>\n",
       "      <td>zh.m</td>\n",
       "      <td>黃鎮廷</td>\n",
       "      <td>135</td>\n",
       "      <td>China</td>\n",
       "    </tr>\n",
       "  </tbody>\n",
       "</table>\n",
       "<p>10242 rows × 4 columns</p>\n",
       "</div>"
      ],
      "text/plain": [
       "        LanguageCode                          PageTitle  PageViews  \\\n",
       "14545             ar                     الصفحة_الرئيسة        162   \n",
       "21671             ar  تصنيف:جميع_المقالات_المقترح_دمجها        341   \n",
       "24207             ar  تصنيف:مقالات_يتيمة_منذ_أبريل_2017        342   \n",
       "24208             ar  تصنيف:مقالات_يتيمة_منذ_أبريل_2018        335   \n",
       "24209             ar  تصنيف:مقالات_يتيمة_منذ_أبريل_2019        338   \n",
       "...              ...                                ...        ...   \n",
       "5288966         zh.m                         零日攻擊_(電視劇)        115   \n",
       "5290192         zh.m                       颱風凱米_(2024年)        107   \n",
       "5292023         zh.m                                高虹安        120   \n",
       "5293401         zh.m                              黃道十二宮        113   \n",
       "5293427         zh.m                                黃鎮廷        135   \n",
       "\n",
       "              Country  \n",
       "14545    Saudi Arabia  \n",
       "21671    Saudi Arabia  \n",
       "24207    Saudi Arabia  \n",
       "24208    Saudi Arabia  \n",
       "24209    Saudi Arabia  \n",
       "...               ...  \n",
       "5288966         China  \n",
       "5290192         China  \n",
       "5292023         China  \n",
       "5293401         China  \n",
       "5293427         China  \n",
       "\n",
       "[10242 rows x 4 columns]"
      ]
     },
     "execution_count": 12,
     "metadata": {},
     "output_type": "execute_result"
    }
   ],
   "source": [
    "df_filtered"
   ]
  },
  {
   "cell_type": "code",
   "execution_count": 13,
   "metadata": {},
   "outputs": [],
   "source": [
    "# URL 컬럼 생성\n",
    "def create_url(row):\n",
    "    page_title = row['PageTitle'].replace('_', ' ')\n",
    "    return f\"https://{row['LanguageCode']}.wikipedia.org/wiki/{page_title}\"\n",
    "\n",
    "df_filtered['URL'] = df_filtered.apply(create_url, axis=1)\n"
   ]
  },
  {
   "cell_type": "code",
   "execution_count": 14,
   "metadata": {},
   "outputs": [
    {
     "data": {
      "text/html": [
       "<div>\n",
       "<style scoped>\n",
       "    .dataframe tbody tr th:only-of-type {\n",
       "        vertical-align: middle;\n",
       "    }\n",
       "\n",
       "    .dataframe tbody tr th {\n",
       "        vertical-align: top;\n",
       "    }\n",
       "\n",
       "    .dataframe thead th {\n",
       "        text-align: right;\n",
       "    }\n",
       "</style>\n",
       "<table border=\"1\" class=\"dataframe\">\n",
       "  <thead>\n",
       "    <tr style=\"text-align: right;\">\n",
       "      <th></th>\n",
       "      <th>LanguageCode</th>\n",
       "      <th>PageTitle</th>\n",
       "      <th>PageViews</th>\n",
       "      <th>Country</th>\n",
       "      <th>URL</th>\n",
       "    </tr>\n",
       "  </thead>\n",
       "  <tbody>\n",
       "    <tr>\n",
       "      <th>14545</th>\n",
       "      <td>ar</td>\n",
       "      <td>الصفحة_الرئيسة</td>\n",
       "      <td>162</td>\n",
       "      <td>Saudi Arabia</td>\n",
       "      <td>https://ar.wikipedia.org/wiki/الصفحة الرئيسة</td>\n",
       "    </tr>\n",
       "    <tr>\n",
       "      <th>21671</th>\n",
       "      <td>ar</td>\n",
       "      <td>تصنيف:جميع_المقالات_المقترح_دمجها</td>\n",
       "      <td>341</td>\n",
       "      <td>Saudi Arabia</td>\n",
       "      <td>https://ar.wikipedia.org/wiki/تصنيف:جميع المقا...</td>\n",
       "    </tr>\n",
       "    <tr>\n",
       "      <th>24207</th>\n",
       "      <td>ar</td>\n",
       "      <td>تصنيف:مقالات_يتيمة_منذ_أبريل_2017</td>\n",
       "      <td>342</td>\n",
       "      <td>Saudi Arabia</td>\n",
       "      <td>https://ar.wikipedia.org/wiki/تصنيف:مقالات يتي...</td>\n",
       "    </tr>\n",
       "    <tr>\n",
       "      <th>24208</th>\n",
       "      <td>ar</td>\n",
       "      <td>تصنيف:مقالات_يتيمة_منذ_أبريل_2018</td>\n",
       "      <td>335</td>\n",
       "      <td>Saudi Arabia</td>\n",
       "      <td>https://ar.wikipedia.org/wiki/تصنيف:مقالات يتي...</td>\n",
       "    </tr>\n",
       "    <tr>\n",
       "      <th>24209</th>\n",
       "      <td>ar</td>\n",
       "      <td>تصنيف:مقالات_يتيمة_منذ_أبريل_2019</td>\n",
       "      <td>338</td>\n",
       "      <td>Saudi Arabia</td>\n",
       "      <td>https://ar.wikipedia.org/wiki/تصنيف:مقالات يتي...</td>\n",
       "    </tr>\n",
       "    <tr>\n",
       "      <th>...</th>\n",
       "      <td>...</td>\n",
       "      <td>...</td>\n",
       "      <td>...</td>\n",
       "      <td>...</td>\n",
       "      <td>...</td>\n",
       "    </tr>\n",
       "    <tr>\n",
       "      <th>5288966</th>\n",
       "      <td>zh.m</td>\n",
       "      <td>零日攻擊_(電視劇)</td>\n",
       "      <td>115</td>\n",
       "      <td>China</td>\n",
       "      <td>https://zh.m.wikipedia.org/wiki/零日攻擊 (電視劇)</td>\n",
       "    </tr>\n",
       "    <tr>\n",
       "      <th>5290192</th>\n",
       "      <td>zh.m</td>\n",
       "      <td>颱風凱米_(2024年)</td>\n",
       "      <td>107</td>\n",
       "      <td>China</td>\n",
       "      <td>https://zh.m.wikipedia.org/wiki/颱風凱米 (2024年)</td>\n",
       "    </tr>\n",
       "    <tr>\n",
       "      <th>5292023</th>\n",
       "      <td>zh.m</td>\n",
       "      <td>高虹安</td>\n",
       "      <td>120</td>\n",
       "      <td>China</td>\n",
       "      <td>https://zh.m.wikipedia.org/wiki/高虹安</td>\n",
       "    </tr>\n",
       "    <tr>\n",
       "      <th>5293401</th>\n",
       "      <td>zh.m</td>\n",
       "      <td>黃道十二宮</td>\n",
       "      <td>113</td>\n",
       "      <td>China</td>\n",
       "      <td>https://zh.m.wikipedia.org/wiki/黃道十二宮</td>\n",
       "    </tr>\n",
       "    <tr>\n",
       "      <th>5293427</th>\n",
       "      <td>zh.m</td>\n",
       "      <td>黃鎮廷</td>\n",
       "      <td>135</td>\n",
       "      <td>China</td>\n",
       "      <td>https://zh.m.wikipedia.org/wiki/黃鎮廷</td>\n",
       "    </tr>\n",
       "  </tbody>\n",
       "</table>\n",
       "<p>10242 rows × 5 columns</p>\n",
       "</div>"
      ],
      "text/plain": [
       "        LanguageCode                          PageTitle  PageViews  \\\n",
       "14545             ar                     الصفحة_الرئيسة        162   \n",
       "21671             ar  تصنيف:جميع_المقالات_المقترح_دمجها        341   \n",
       "24207             ar  تصنيف:مقالات_يتيمة_منذ_أبريل_2017        342   \n",
       "24208             ar  تصنيف:مقالات_يتيمة_منذ_أبريل_2018        335   \n",
       "24209             ar  تصنيف:مقالات_يتيمة_منذ_أبريل_2019        338   \n",
       "...              ...                                ...        ...   \n",
       "5288966         zh.m                         零日攻擊_(電視劇)        115   \n",
       "5290192         zh.m                       颱風凱米_(2024年)        107   \n",
       "5292023         zh.m                                高虹安        120   \n",
       "5293401         zh.m                              黃道十二宮        113   \n",
       "5293427         zh.m                                黃鎮廷        135   \n",
       "\n",
       "              Country                                                URL  \n",
       "14545    Saudi Arabia       https://ar.wikipedia.org/wiki/الصفحة الرئيسة  \n",
       "21671    Saudi Arabia  https://ar.wikipedia.org/wiki/تصنيف:جميع المقا...  \n",
       "24207    Saudi Arabia  https://ar.wikipedia.org/wiki/تصنيف:مقالات يتي...  \n",
       "24208    Saudi Arabia  https://ar.wikipedia.org/wiki/تصنيف:مقالات يتي...  \n",
       "24209    Saudi Arabia  https://ar.wikipedia.org/wiki/تصنيف:مقالات يتي...  \n",
       "...               ...                                                ...  \n",
       "5288966         China         https://zh.m.wikipedia.org/wiki/零日攻擊 (電視劇)  \n",
       "5290192         China       https://zh.m.wikipedia.org/wiki/颱風凱米 (2024年)  \n",
       "5292023         China                https://zh.m.wikipedia.org/wiki/高虹安  \n",
       "5293401         China              https://zh.m.wikipedia.org/wiki/黃道十二宮  \n",
       "5293427         China                https://zh.m.wikipedia.org/wiki/黃鎮廷  \n",
       "\n",
       "[10242 rows x 5 columns]"
      ]
     },
     "execution_count": 14,
     "metadata": {},
     "output_type": "execute_result"
    }
   ],
   "source": [
    "df_filtered"
   ]
  },
  {
   "cell_type": "code",
   "execution_count": 17,
   "metadata": {},
   "outputs": [
    {
     "data": {
      "text/plain": [
       "14545         https://ar.wikipedia.org/wiki/الصفحة الرئيسة\n",
       "21671    https://ar.wikipedia.org/wiki/تصنيف:جميع المقا...\n",
       "24207    https://ar.wikipedia.org/wiki/تصنيف:مقالات يتي...\n",
       "24208    https://ar.wikipedia.org/wiki/تصنيف:مقالات يتي...\n",
       "24209    https://ar.wikipedia.org/wiki/تصنيف:مقالات يتي...\n",
       "                               ...                        \n",
       "92028    https://ar.m.wikipedia.org/wiki/عبد العزيز بن ...\n",
       "94094      https://ar.m.wikipedia.org/wiki/علي بن أبي طالب\n",
       "94406           https://ar.m.wikipedia.org/wiki/عمر الراضي\n",
       "94667    https://ar.m.wikipedia.org/wiki/عملية طوفان ال...\n",
       "94897    https://ar.m.wikipedia.org/wiki/عيد العرش (الم...\n",
       "Name: URL, Length: 100, dtype: object"
      ]
     },
     "execution_count": 17,
     "metadata": {},
     "output_type": "execute_result"
    }
   ],
   "source": [
    "df_filtered[\"URL\"].head(100)"
   ]
  },
  {
   "cell_type": "code",
   "execution_count": null,
   "metadata": {},
   "outputs": [],
   "source": [
    "## 제목을 두고 양옆 공백을 삭제하는 함수 하나 strip\n",
    "## 제목을 공백을 언더스코어에서 공백으로 대체하는 함수 하나 replace\n",
    "## if문을 통해 ar 일시 공백을 언더스코어로  replace\n",
    "## 아 애초에 ar이 아니면 공백으로 replace로 하자"
   ]
  }
 ],
 "metadata": {
  "kernelspec": {
   "display_name": "Python 3",
   "language": "python",
   "name": "python3"
  },
  "language_info": {
   "codemirror_mode": {
    "name": "ipython",
    "version": 3
   },
   "file_extension": ".py",
   "mimetype": "text/x-python",
   "name": "python",
   "nbconvert_exporter": "python",
   "pygments_lexer": "ipython3",
   "version": "3.11.5"
  }
 },
 "nbformat": 4,
 "nbformat_minor": 2
}

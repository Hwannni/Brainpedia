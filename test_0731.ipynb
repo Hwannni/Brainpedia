{
 "cells": [
  {
   "cell_type": "code",
   "execution_count": 1,
   "metadata": {},
   "outputs": [
    {
     "name": "stdout",
     "output_type": "stream",
     "text": [
      "Requirement already satisfied: pandas in c:\\users\\cmhcm\\appdata\\local\\programs\\python\\python311\\lib\\site-packages (2.2.0)Note: you may need to restart the kernel to use updated packages.\n"
     ]
    },
    {
     "name": "stderr",
     "output_type": "stream",
     "text": [
      "\n",
      "[notice] A new release of pip is available: 24.0 -> 24.1.2\n",
      "[notice] To update, run: python.exe -m pip install --upgrade pip\n"
     ]
    },
    {
     "name": "stdout",
     "output_type": "stream",
     "text": [
      "\n",
      "Requirement already satisfied: requests in c:\\users\\cmhcm\\appdata\\local\\programs\\python\\python311\\lib\\site-packages (2.31.0)\n",
      "Requirement already satisfied: numpy<2,>=1.23.2 in c:\\users\\cmhcm\\appdata\\local\\programs\\python\\python311\\lib\\site-packages (from pandas) (1.26.4)\n",
      "Requirement already satisfied: python-dateutil>=2.8.2 in c:\\users\\cmhcm\\appdata\\roaming\\python\\python311\\site-packages (from pandas) (2.8.2)\n",
      "Requirement already satisfied: pytz>=2020.1 in c:\\users\\cmhcm\\appdata\\local\\programs\\python\\python311\\lib\\site-packages (from pandas) (2024.1)\n",
      "Requirement already satisfied: tzdata>=2022.7 in c:\\users\\cmhcm\\appdata\\local\\programs\\python\\python311\\lib\\site-packages (from pandas) (2023.4)\n",
      "Requirement already satisfied: charset-normalizer<4,>=2 in c:\\users\\cmhcm\\appdata\\local\\programs\\python\\python311\\lib\\site-packages (from requests) (3.3.2)\n",
      "Requirement already satisfied: idna<4,>=2.5 in c:\\users\\cmhcm\\appdata\\local\\programs\\python\\python311\\lib\\site-packages (from requests) (3.6)\n",
      "Requirement already satisfied: urllib3<3,>=1.21.1 in c:\\users\\cmhcm\\appdata\\local\\programs\\python\\python311\\lib\\site-packages (from requests) (2.2.0)\n",
      "Requirement already satisfied: certifi>=2017.4.17 in c:\\users\\cmhcm\\appdata\\local\\programs\\python\\python311\\lib\\site-packages (from requests) (2024.2.2)\n",
      "Requirement already satisfied: six>=1.5 in c:\\users\\cmhcm\\appdata\\roaming\\python\\python311\\site-packages (from python-dateutil>=2.8.2->pandas) (1.16.0)\n"
     ]
    }
   ],
   "source": [
    "pip install pandas requests"
   ]
  },
  {
   "cell_type": "code",
   "execution_count": 2,
   "metadata": {},
   "outputs": [
    {
     "name": "stderr",
     "output_type": "stream",
     "text": [
      "C:\\Users\\cmhcm\\AppData\\Local\\Temp\\ipykernel_15152\\777464514.py:1: DeprecationWarning: \n",
      "Pyarrow will become a required dependency of pandas in the next major release of pandas (pandas 3.0),\n",
      "(to allow more performant data types, such as the Arrow string type, and better interoperability with other libraries)\n",
      "but was not found to be installed on your system.\n",
      "If this would cause problems for you,\n",
      "please provide us feedback at https://github.com/pandas-dev/pandas/issues/54466\n",
      "        \n",
      "  import pandas as pd\n"
     ]
    }
   ],
   "source": [
    "import pandas as pd\n",
    "import requests\n",
    "import gzip\n",
    "from io import BytesIO"
   ]
  },
  {
   "cell_type": "code",
   "execution_count": 3,
   "metadata": {},
   "outputs": [],
   "source": [
    "# 데이터 다운로드\n",
    "def download_pageviews(year, month, day, hour):\n",
    "    url = (\n",
    "        f\"https://dumps.wikimedia.org/other/pageviews/\"\n",
    "        f\"{year}/{year}-{month:0>2}/pageviews-{year}{month:0>2}{day:0>2}-{hour:0>2}0000.gz\"\n",
    "    )\n",
    "    response = requests.get(url)\n",
    "    return response.content\n",
    "\n",
    "# 데이터 압축 해제\n",
    "def extract_gz(data):\n",
    "    with gzip.open(BytesIO(data), 'rb') as f:\n",
    "        return f.read().decode('utf-8')\n",
    "\n",
    "# 데이터 파싱 및 DataFrame 변환\n",
    "def parse_to_dataframe(data):\n",
    "    lines = data.split('\\n')\n",
    "    records = [line.split() for line in lines if line]\n",
    "    # 데이터의 실제 컬럼 수에 맞춰 수정\n",
    "    df = pd.DataFrame(records)\n",
    "    return df\n",
    "\n",
    "# 하루치 데이터 다운로드 및 DataFrame으로 변환\n",
    "def fetch_daily_data(year, month, day):\n",
    "    all_data = []\n",
    "    for hour in range(2):\n",
    "        gz_data = download_pageviews(year, month, day, hour)\n",
    "        extracted_data = extract_gz(gz_data)\n",
    "        df = parse_to_dataframe(extracted_data)\n",
    "        all_data.append(df)\n",
    "    \n",
    "    combined_df = pd.concat(all_data, ignore_index=True)\n",
    "    return combined_df\n",
    "\n",
    "# 예시 사용\n",
    "year, month, day = 2024, 7, 31\n",
    "daily_df = fetch_daily_data(year, month, day)"
   ]
  },
  {
   "cell_type": "code",
   "execution_count": 4,
   "metadata": {},
   "outputs": [],
   "source": [
    "daily_df.columns = ['LanguageCode', 'PageTitle', 'PageViews', 'Metadata']"
   ]
  },
  {
   "cell_type": "code",
   "execution_count": 5,
   "metadata": {},
   "outputs": [],
   "source": [
    "# 결측치 또는 비어있는 값이 있다면 처리 (예: NaN을 0으로 대체)\n",
    "daily_df['PageViews'] = daily_df['PageViews'].fillna(0)\n",
    "\n",
    "# object 타입을 int로 변환\n",
    "daily_df['PageViews'] = daily_df['PageViews'].astype(int)"
   ]
  },
  {
   "cell_type": "code",
   "execution_count": 6,
   "metadata": {},
   "outputs": [],
   "source": [
    "threshold = 100\n",
    "df_filtered = daily_df[daily_df['PageViews'] >= threshold]"
   ]
  },
  {
   "cell_type": "code",
   "execution_count": 7,
   "metadata": {},
   "outputs": [],
   "source": [
    "# 페이지 유형에 따른 필터링 기준 설정\n",
    "exclude_prefixes = [\n",
    "    \"Main_Page\", \"Special:\", \"Talk:\", \"User:\", \"User talk:\", \n",
    "    \"Category:\", \"Portal:\", \"File:\", \"Template:\", \"Help:\", \"Wikipedia:\",\n",
    "    \"MediaWiki:\", \"Spécial:\", \"メインページ\"\n",
    "]\n",
    "\n",
    "# 특정 유형의 페이지 제외\n",
    "# PageTitle이 제외할 접두사를 가진 경우 제외\n",
    "df_filtered = df_filtered[~df_filtered['PageTitle'].str.startswith(tuple(exclude_prefixes))]"
   ]
  },
  {
   "cell_type": "code",
   "execution_count": 8,
   "metadata": {},
   "outputs": [],
   "source": [
    "# 언어 코드별 페이지 수 확인\n",
    "language_counts = df_filtered['LanguageCode'].value_counts()\n",
    "# 문서 수가 10 이하인 언어 코드 찾기\n",
    "languages_to_remove = language_counts[language_counts <= 10].index\n",
    "# 해당 언어 코드를 가진 행 제거\n",
    "df_filtered = df_filtered[~df_filtered['LanguageCode'].isin(languages_to_remove)]"
   ]
  },
  {
   "cell_type": "code",
   "execution_count": 9,
   "metadata": {},
   "outputs": [],
   "source": [
    "# 인덱스를 기본값으로 재설정하고 새로운 인덱스 부여\n",
    "df_filtered = df_filtered.reset_index(drop=True)"
   ]
  },
  {
   "cell_type": "code",
   "execution_count": 10,
   "metadata": {},
   "outputs": [],
   "source": [
    "df_filtered.drop(columns=['Metadata'], inplace=True)"
   ]
  },
  {
   "cell_type": "code",
   "execution_count": 11,
   "metadata": {},
   "outputs": [],
   "source": [
    "language_to_country = {\n",
    "    'en': 'United States',\n",
    "    'ar': 'Saudi Arabia',\n",
    "    'zh': 'China',\n",
    "    'es': 'Spain',\n",
    "    'fr': 'France',\n",
    "    'de': 'Germany',\n",
    "    'ru': 'Russia',\n",
    "    'ko': 'Korea',\n",
    "    'ja': 'Japan',\n",
    "    'fa': 'Iran',\n",
    "    'vi': 'Vietnam',\n",
    "    'he': 'Israel',        # 히브리어\n",
    "    'id': 'Indonesia',    # 인도네시아어\n",
    "    'it': 'Italy',        # 이탈리아어\n",
    "    'pl': 'Poland',       # 폴란드어\n",
    "    'pt': 'Portugal',     # 포르투갈어\n",
    "    'tl': 'Philippines',  # 타갈로그어\n",
    "    'tr': 'Turkey',       # 터키어\n",
    "    # 다른 언어 코드와 나라를 추가할 수 있습니다\n",
    "}"
   ]
  },
  {
   "cell_type": "code",
   "execution_count": 12,
   "metadata": {},
   "outputs": [
    {
     "data": {
      "text/html": [
       "<div>\n",
       "<style scoped>\n",
       "    .dataframe tbody tr th:only-of-type {\n",
       "        vertical-align: middle;\n",
       "    }\n",
       "\n",
       "    .dataframe tbody tr th {\n",
       "        vertical-align: top;\n",
       "    }\n",
       "\n",
       "    .dataframe thead th {\n",
       "        text-align: right;\n",
       "    }\n",
       "</style>\n",
       "<table border=\"1\" class=\"dataframe\">\n",
       "  <thead>\n",
       "    <tr style=\"text-align: right;\">\n",
       "      <th></th>\n",
       "      <th>LanguageCode</th>\n",
       "      <th>PageTitle</th>\n",
       "      <th>PageViews</th>\n",
       "      <th>Country</th>\n",
       "    </tr>\n",
       "  </thead>\n",
       "  <tbody>\n",
       "    <tr>\n",
       "      <th>0</th>\n",
       "      <td>ar.m</td>\n",
       "      <td>69_(وضعية_جنسية)</td>\n",
       "      <td>122</td>\n",
       "      <td>Saudi Arabia</td>\n",
       "    </tr>\n",
       "    <tr>\n",
       "      <th>1</th>\n",
       "      <td>ar.m</td>\n",
       "      <td>X_(فيلم_2022)</td>\n",
       "      <td>174</td>\n",
       "      <td>Saudi Arabia</td>\n",
       "    </tr>\n",
       "    <tr>\n",
       "      <th>2</th>\n",
       "      <td>ar.m</td>\n",
       "      <td>آل_التنين</td>\n",
       "      <td>104</td>\n",
       "      <td>Saudi Arabia</td>\n",
       "    </tr>\n",
       "    <tr>\n",
       "      <th>3</th>\n",
       "      <td>ar.m</td>\n",
       "      <td>أسماء_الله_الحسنى</td>\n",
       "      <td>122</td>\n",
       "      <td>Saudi Arabia</td>\n",
       "    </tr>\n",
       "    <tr>\n",
       "      <th>4</th>\n",
       "      <td>ar.m</td>\n",
       "      <td>أصالة_كامل</td>\n",
       "      <td>183</td>\n",
       "      <td>Saudi Arabia</td>\n",
       "    </tr>\n",
       "    <tr>\n",
       "      <th>...</th>\n",
       "      <td>...</td>\n",
       "      <td>...</td>\n",
       "      <td>...</td>\n",
       "      <td>...</td>\n",
       "    </tr>\n",
       "    <tr>\n",
       "      <th>20036</th>\n",
       "      <td>zh.m</td>\n",
       "      <td>马龙_(乒乓球运动员)</td>\n",
       "      <td>179</td>\n",
       "      <td>China</td>\n",
       "    </tr>\n",
       "    <tr>\n",
       "      <th>20037</th>\n",
       "      <td>zh.m</td>\n",
       "      <td>高禮澤</td>\n",
       "      <td>123</td>\n",
       "      <td>China</td>\n",
       "    </tr>\n",
       "    <tr>\n",
       "      <th>20038</th>\n",
       "      <td>zh.m</td>\n",
       "      <td>高虹安</td>\n",
       "      <td>194</td>\n",
       "      <td>China</td>\n",
       "    </tr>\n",
       "    <tr>\n",
       "      <th>20039</th>\n",
       "      <td>zh.m</td>\n",
       "      <td>黃道十二宮</td>\n",
       "      <td>107</td>\n",
       "      <td>China</td>\n",
       "    </tr>\n",
       "    <tr>\n",
       "      <th>20040</th>\n",
       "      <td>zh.m</td>\n",
       "      <td>黃鎮廷</td>\n",
       "      <td>397</td>\n",
       "      <td>China</td>\n",
       "    </tr>\n",
       "  </tbody>\n",
       "</table>\n",
       "<p>20041 rows × 4 columns</p>\n",
       "</div>"
      ],
      "text/plain": [
       "      LanguageCode          PageTitle  PageViews       Country\n",
       "0             ar.m   69_(وضعية_جنسية)        122  Saudi Arabia\n",
       "1             ar.m      X_(فيلم_2022)        174  Saudi Arabia\n",
       "2             ar.m          آل_التنين        104  Saudi Arabia\n",
       "3             ar.m  أسماء_الله_الحسنى        122  Saudi Arabia\n",
       "4             ar.m         أصالة_كامل        183  Saudi Arabia\n",
       "...            ...                ...        ...           ...\n",
       "20036         zh.m        马龙_(乒乓球运动员)        179         China\n",
       "20037         zh.m                高禮澤        123         China\n",
       "20038         zh.m                高虹安        194         China\n",
       "20039         zh.m              黃道十二宮        107         China\n",
       "20040         zh.m                黃鎮廷        397         China\n",
       "\n",
       "[20041 rows x 4 columns]"
      ]
     },
     "execution_count": 12,
     "metadata": {},
     "output_type": "execute_result"
    }
   ],
   "source": [
    "# LanguageCode에서 언어 코드를 추출하여 Country 컬럼 생성\n",
    "df_filtered['Country'] = df_filtered['LanguageCode'].str.split('.').str[0].map(language_to_country)\n",
    "df_filtered"
   ]
  },
  {
   "cell_type": "code",
   "execution_count": 17,
   "metadata": {},
   "outputs": [
    {
     "data": {
      "text/plain": [
       "array(['Saudi Arabia', 'Germany', 'United States', 'Spain', 'Iran',\n",
       "       'France', 'Israel', 'Indonesia', 'Italy', 'Japan', 'Korea',\n",
       "       'Poland', 'Portugal', 'Russia', 'Philippines', 'Turkey', 'Vietnam',\n",
       "       'China'], dtype=object)"
      ]
     },
     "execution_count": 17,
     "metadata": {},
     "output_type": "execute_result"
    }
   ],
   "source": [
    "df_filtered['Country'].unique()"
   ]
  },
  {
   "cell_type": "code",
   "execution_count": null,
   "metadata": {},
   "outputs": [],
   "source": []
  }
 ],
 "metadata": {
  "kernelspec": {
   "display_name": "Python 3",
   "language": "python",
   "name": "python3"
  },
  "language_info": {
   "codemirror_mode": {
    "name": "ipython",
    "version": 3
   },
   "file_extension": ".py",
   "mimetype": "text/x-python",
   "name": "python",
   "nbconvert_exporter": "python",
   "pygments_lexer": "ipython3",
   "version": "3.11.5"
  }
 },
 "nbformat": 4,
 "nbformat_minor": 2
}
